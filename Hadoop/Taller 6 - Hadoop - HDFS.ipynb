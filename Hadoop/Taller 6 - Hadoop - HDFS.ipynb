{
 "cells": [
  {
   "cell_type": "markdown",
   "metadata": {},
   "source": [
    "# Taller 6 - Hadoop - HDFS\n",
    "\n",
    "Juan Navarro, <jsnavarroa@unal.edu.co>\n",
    "\n",
    "\n",
    "# Instalación\n",
    "\n",
    "```bash\n",
    "cd \"${HOME}/worskpace/BDA\"\n",
    "\n",
    "git clone https://github.com/jsnavarroa/docker-hadoop.git\n",
    "cd docker-hadoop\n",
    "\n",
    "# Install docker-compose\n",
    "conda create --name py3 python=3.6\n",
    "conda activate py3\n",
    "conda install -c conda-forge docker-compose\n",
    "\n",
    "# Run local\n",
    "docker-compose -f docker-compose-local.yml build\n",
    "docker-compose -f docker-compose-local.yml up -d\n",
    "\n",
    "```\n",
    "\n",
    "* Hadoop URLs:\n",
    "  * NameNode http://localhost:9870/dfshealth.html#tab-overview.\n",
    "  * HDFS hdfs://localhost:9800.  "
   ]
  },
  {
   "cell_type": "code",
   "execution_count": 5,
   "metadata": {},
   "outputs": [
    {
     "name": "stdout",
     "output_type": "stream",
     "text": [
      "JAVA_HOME=/usr/lib/jvm/java-8-openjdk-amd64/jre/\n"
     ]
    }
   ],
   "source": [
    "%%bash\n",
    "\n",
    "# Enviroment variables\n",
    "#export JAVA_HOME=$(readlink -f /usr/bin/java | sed \"s:bin/java::\")\n",
    "\n",
    "echo \"JAVA_HOME=$JAVA_HOME\""
   ]
  },
  {
   "cell_type": "markdown",
   "metadata": {},
   "source": [
    "## Práctica HDFS\n",
    "\n",
    "Después de instalado el cluster de Hadoop se ejecutan los siguientes comandos para la práctica:"
   ]
  },
  {
   "cell_type": "code",
   "execution_count": 6,
   "metadata": {},
   "outputs": [
    {
     "name": "stdout",
     "output_type": "stream",
     "text": [
      "Deleted /casa\n",
      "drwxr-xr-x   - juan supergroup          0 2018-11-23 15:39 /casa/piso1\n",
      "drwxr-xr-x   - juan supergroup          0 2018-11-23 15:40 /casa/piso1/cocina\n",
      "-rw-r--r--   3 juan supergroup       5194 2018-11-23 15:40 /casa/piso1/cocina/estufa.jpg\n",
      "drwxr-xr-x   - juan supergroup          0 2018-11-23 15:40 /casa/piso1/sala\n",
      "-rw-r--r--   3 juan supergroup       3106 2018-11-23 15:39 /casa/piso1/sala/mesa.jpg\n",
      "-rw-r--r--   3 juan supergroup       5688 2018-11-23 15:40 /casa/piso1/sala/televisor.jpg\n",
      "drwxr-xr-x   - juan supergroup          0 2018-11-23 15:40 /casa/piso2\n",
      "drwxr-xr-x   - juan supergroup          0 2018-11-23 15:40 /casa/piso2/alcoba\n",
      "-rw-r--r--   3 juan supergroup       5859 2018-11-23 15:40 /casa/piso2/alcoba/cama.jpg\n",
      "drwxr-xr-x   - juan supergroup          0 2018-11-23 15:40 /casa/piso2/estudio\n",
      "-rw-r--r--   3 juan supergroup       9216 2018-11-23 15:40 /casa/piso2/estudio/libro.doc\n"
     ]
    }
   ],
   "source": [
    "%%bash\n",
    "\n",
    "HADOOP_HOME=\"${HOME}/Programas/BDA/hadoop-3.1.1\"\n",
    "\n",
    "# Cleaning\n",
    "$HADOOP_HOME/bin/hdfs dfs -rm -r /casa\n",
    "\n",
    "# Create house\n",
    "$HADOOP_HOME/bin/hdfs dfs -mkdir -p /casa/piso1/sala\n",
    "$HADOOP_HOME/bin/hdfs dfs -mkdir -p /casa/piso1/cocina\n",
    "$HADOOP_HOME/bin/hdfs dfs -mkdir -p /casa/piso2/alcoba\n",
    "\n",
    "# Add furniture\n",
    "$HADOOP_HOME/bin/hdfs dfs -put ./resources/mesa.jpg /casa/piso1/sala\n",
    "$HADOOP_HOME/bin/hdfs dfs -put ./resources/estufa.jpg /casa/piso1/cocina\n",
    "$HADOOP_HOME/bin/hdfs dfs -put ./resources/libro.doc /casa/piso2/alcoba\n",
    "$HADOOP_HOME/bin/hdfs dfs -put ./resources/televisor.jpg /casa/piso2/alcoba\n",
    "\n",
    "# Renovation\n",
    "$HADOOP_HOME/bin/hdfs dfs -mkdir -p /casa/piso2/estudio\n",
    "$HADOOP_HOME/bin/hdfs dfs -put ./resources/cama.jpg /casa/piso2/alcoba\n",
    "$HADOOP_HOME/bin/hdfs dfs -mv /casa/piso2/alcoba/televisor.jpg /casa/piso1/sala/televisor.jpg\n",
    "$HADOOP_HOME/bin/hdfs dfs -mv /casa/piso2/alcoba/libro.doc /casa/piso2/estudio/libro.doc\n",
    "\n",
    "# Check\n",
    "$HADOOP_HOME/bin/hdfs dfs -ls -R /casa"
   ]
  },
  {
   "cell_type": "markdown",
   "metadata": {},
   "source": [
    "## Ejercicio de conteo de términos\n",
    "\n",
    "### I. Computar el valor de pi en paralelo en 5 nodos con 5 \"samples\""
   ]
  },
  {
   "cell_type": "code",
   "execution_count": 1,
   "metadata": {},
   "outputs": [
    {
     "data": {
      "application/json": {
       "cell": {
        "!": "OSMagics",
        "HTML": "Other",
        "SVG": "Other",
        "bash": "Other",
        "capture": "ExecutionMagics",
        "debug": "ExecutionMagics",
        "file": "Other",
        "html": "DisplayMagics",
        "javascript": "DisplayMagics",
        "js": "DisplayMagics",
        "latex": "DisplayMagics",
        "markdown": "DisplayMagics",
        "perl": "Other",
        "prun": "ExecutionMagics",
        "pypy": "Other",
        "python": "Other",
        "python2": "Other",
        "python3": "Other",
        "ruby": "Other",
        "script": "ScriptMagics",
        "sh": "Other",
        "svg": "DisplayMagics",
        "sx": "OSMagics",
        "system": "OSMagics",
        "time": "ExecutionMagics",
        "timeit": "ExecutionMagics",
        "writefile": "OSMagics"
       },
       "line": {
        "alias": "OSMagics",
        "alias_magic": "BasicMagics",
        "autocall": "AutoMagics",
        "automagic": "AutoMagics",
        "autosave": "KernelMagics",
        "bookmark": "OSMagics",
        "cat": "Other",
        "cd": "OSMagics",
        "clear": "KernelMagics",
        "colors": "BasicMagics",
        "config": "ConfigMagics",
        "connect_info": "KernelMagics",
        "cp": "Other",
        "debug": "ExecutionMagics",
        "dhist": "OSMagics",
        "dirs": "OSMagics",
        "doctest_mode": "BasicMagics",
        "ed": "Other",
        "edit": "KernelMagics",
        "env": "OSMagics",
        "gui": "BasicMagics",
        "hist": "Other",
        "history": "HistoryMagics",
        "killbgscripts": "ScriptMagics",
        "ldir": "Other",
        "less": "KernelMagics",
        "lf": "Other",
        "lk": "Other",
        "ll": "Other",
        "load": "CodeMagics",
        "load_ext": "ExtensionMagics",
        "loadpy": "CodeMagics",
        "logoff": "LoggingMagics",
        "logon": "LoggingMagics",
        "logstart": "LoggingMagics",
        "logstate": "LoggingMagics",
        "logstop": "LoggingMagics",
        "ls": "Other",
        "lsmagic": "BasicMagics",
        "lx": "Other",
        "macro": "ExecutionMagics",
        "magic": "BasicMagics",
        "man": "KernelMagics",
        "matplotlib": "PylabMagics",
        "mkdir": "Other",
        "more": "KernelMagics",
        "mv": "Other",
        "notebook": "BasicMagics",
        "page": "BasicMagics",
        "pastebin": "CodeMagics",
        "pdb": "ExecutionMagics",
        "pdef": "NamespaceMagics",
        "pdoc": "NamespaceMagics",
        "pfile": "NamespaceMagics",
        "pinfo": "NamespaceMagics",
        "pinfo2": "NamespaceMagics",
        "pip": "BasicMagics",
        "popd": "OSMagics",
        "pprint": "BasicMagics",
        "precision": "BasicMagics",
        "profile": "BasicMagics",
        "prun": "ExecutionMagics",
        "psearch": "NamespaceMagics",
        "psource": "NamespaceMagics",
        "pushd": "OSMagics",
        "pwd": "OSMagics",
        "pycat": "OSMagics",
        "pylab": "PylabMagics",
        "qtconsole": "KernelMagics",
        "quickref": "BasicMagics",
        "recall": "HistoryMagics",
        "rehashx": "OSMagics",
        "reload_ext": "ExtensionMagics",
        "rep": "Other",
        "rerun": "HistoryMagics",
        "reset": "NamespaceMagics",
        "reset_selective": "NamespaceMagics",
        "rm": "Other",
        "rmdir": "Other",
        "run": "ExecutionMagics",
        "save": "CodeMagics",
        "sc": "OSMagics",
        "set_env": "OSMagics",
        "store": "StoreMagics",
        "sx": "OSMagics",
        "system": "OSMagics",
        "tb": "ExecutionMagics",
        "time": "ExecutionMagics",
        "timeit": "ExecutionMagics",
        "unalias": "OSMagics",
        "unload_ext": "ExtensionMagics",
        "who": "NamespaceMagics",
        "who_ls": "NamespaceMagics",
        "whos": "NamespaceMagics",
        "xdel": "NamespaceMagics",
        "xmode": "BasicMagics"
       }
      },
      "text/plain": [
       "Available line magics:\n",
       "%alias  %alias_magic  %autocall  %automagic  %autosave  %bookmark  %cat  %cd  %clear  %colors  %config  %connect_info  %cp  %debug  %dhist  %dirs  %doctest_mode  %ed  %edit  %env  %gui  %hist  %history  %killbgscripts  %ldir  %less  %lf  %lk  %ll  %load  %load_ext  %loadpy  %logoff  %logon  %logstart  %logstate  %logstop  %ls  %lsmagic  %lx  %macro  %magic  %man  %matplotlib  %mkdir  %more  %mv  %notebook  %page  %pastebin  %pdb  %pdef  %pdoc  %pfile  %pinfo  %pinfo2  %popd  %pprint  %precision  %profile  %prun  %psearch  %psource  %pushd  %pwd  %pycat  %pylab  %qtconsole  %quickref  %recall  %rehashx  %reload_ext  %rep  %rerun  %reset  %reset_selective  %rm  %rmdir  %run  %save  %sc  %set_env  %store  %sx  %system  %tb  %time  %timeit  %unalias  %unload_ext  %who  %who_ls  %whos  %xdel  %xmode\n",
       "\n",
       "Available cell magics:\n",
       "%%!  %%HTML  %%SVG  %%bash  %%capture  %%debug  %%file  %%html  %%javascript  %%js  %%latex  %%markdown  %%perl  %%prun  %%pypy  %%python  %%python2  %%python3  %%ruby  %%script  %%sh  %%svg  %%sx  %%system  %%time  %%timeit  %%writefile\n",
       "\n",
       "Automagic is ON, % prefix IS NOT needed for line magics."
      ]
     },
     "execution_count": 1,
     "metadata": {},
     "output_type": "execute_result"
    }
   ],
   "source": [
    "% lsmagic"
   ]
  },
  {
   "cell_type": "code",
   "execution_count": 9,
   "metadata": {},
   "outputs": [
    {
     "name": "stdout",
     "output_type": "stream",
     "text": [
      "Number of Maps  = 5\n",
      "Samples per Map = 5\n",
      "Wrote input for Map #0\n",
      "Wrote input for Map #1\n",
      "Wrote input for Map #2\n",
      "Wrote input for Map #3\n",
      "Wrote input for Map #4\n",
      "Starting Job\n",
      "Job Finished in 1.37 seconds\n",
      "Estimated value of Pi is 3.68000000000000000000\n"
     ]
    },
    {
     "name": "stderr",
     "output_type": "stream",
     "text": [
      "2018-11-23 15:55:06,735 WARN impl.MetricsSystemImpl: JobTracker metrics system already initialized!\n",
      "2018-11-23 15:55:06,761 WARN io.ReadaheadPool: Failed readahead on ifile\n",
      "EBADF: Bad file descriptor\n",
      "\tat org.apache.hadoop.io.nativeio.NativeIO$POSIX.posix_fadvise(Native Method)\n",
      "\tat org.apache.hadoop.io.nativeio.NativeIO$POSIX.posixFadviseIfPossible(NativeIO.java:270)\n",
      "\tat org.apache.hadoop.io.nativeio.NativeIO$POSIX$CacheManipulator.posixFadviseIfPossible(NativeIO.java:147)\n",
      "\tat org.apache.hadoop.io.ReadaheadPool$ReadaheadRequestImpl.run(ReadaheadPool.java:208)\n",
      "\tat java.util.concurrent.ThreadPoolExecutor.runWorker(ThreadPoolExecutor.java:1149)\n",
      "\tat java.util.concurrent.ThreadPoolExecutor$Worker.run(ThreadPoolExecutor.java:624)\n",
      "\tat java.lang.Thread.run(Thread.java:748)\n",
      "2018-11-23 15:55:06,762 WARN io.ReadaheadPool: Failed readahead on ifile\n",
      "EBADF: Bad file descriptor\n",
      "\tat org.apache.hadoop.io.nativeio.NativeIO$POSIX.posix_fadvise(Native Method)\n",
      "\tat org.apache.hadoop.io.nativeio.NativeIO$POSIX.posixFadviseIfPossible(NativeIO.java:270)\n",
      "\tat org.apache.hadoop.io.nativeio.NativeIO$POSIX$CacheManipulator.posixFadviseIfPossible(NativeIO.java:147)\n",
      "\tat org.apache.hadoop.io.ReadaheadPool$ReadaheadRequestImpl.run(ReadaheadPool.java:208)\n",
      "\tat java.util.concurrent.ThreadPoolExecutor.runWorker(ThreadPoolExecutor.java:1149)\n",
      "\tat java.util.concurrent.ThreadPoolExecutor$Worker.run(ThreadPoolExecutor.java:624)\n",
      "\tat java.lang.Thread.run(Thread.java:748)\n"
     ]
    }
   ],
   "source": [
    "%%bash\n",
    "\n",
    "HADOOP_HOME=\"${HOME}/Programas/BDA/hadoop-3.1.1\"\n",
    "HADOOP_EXAMPLES_JAR=\"${HADOOP_HOME}/share/hadoop/mapreduce/hadoop-mapreduce-examples-3.1.1.jar\"\n",
    "\n",
    "$HADOOP_HOME/bin/hadoop --loglevel WARN jar $HADOOP_EXAMPLES_JAR pi 5 5\n"
   ]
  },
  {
   "cell_type": "markdown",
   "metadata": {},
   "source": [
    "### II. Frecuencia de Palabras"
   ]
  },
  {
   "cell_type": "code",
   "execution_count": 24,
   "metadata": {},
   "outputs": [
    {
     "name": "stdout",
     "output_type": "stream",
     "text": [
      "Found 7 items\n",
      "-rw-r--r--   3 juan supergroup     111448 2018-11-23 16:33 input/xaa.txt\n",
      "-rw-r--r--   3 juan supergroup     127578 2018-11-23 16:33 input/xab.txt\n",
      "-rw-r--r--   3 juan supergroup     151478 2018-11-23 16:33 input/xac.txt\n",
      "-rw-r--r--   3 juan supergroup     190377 2018-11-23 16:33 input/xad.txt\n",
      "-rw-r--r--   3 juan supergroup     167416 2018-11-23 16:33 input/xae.txt\n",
      "-rw-r--r--   3 juan supergroup     131772 2018-11-23 16:33 input/xaf.txt\n",
      "-rw-r--r--   3 juan supergroup     121707 2018-11-23 16:33 input/xag.txt\n",
      "Deleted output\n",
      "árboles\t2\n",
      "árboles,\t4\n",
      "árboles.\t1\n",
      "árboles;\t2\n",
      "ásperos\t2\n",
      "áspides\t1\n",
      "átate\t1\n",
      "échala\t1\n",
      "échalo\t3\n",
      "échate\t4\n",
      "él\t592\n",
      "él!\t1\n",
      "él,\t215\n",
      "él.\t131\n",
      "él:\t8\n",
      "él;\t43\n",
      "él?\t8\n",
      "éramos\t5\n",
      "ése\t16\n",
      "ése,\t1\n",
      "ésta\t6\n",
      "ésta,\t4\n",
      "éstas\t3\n",
      "éste\t107\n",
      "éste,\t25\n",
      "éste.\t1\n",
      "éste:\t3\n"
     ]
    },
    {
     "name": "stderr",
     "output_type": "stream",
     "text": [
      "2018-11-23 16:33:57,409 WARN impl.MetricsSystemImpl: JobTracker metrics system already initialized!\n"
     ]
    }
   ],
   "source": [
    "%%bash\n",
    "\n",
    "HADOOP_HOME=\"${HOME}/Programas/BDA/hadoop-3.1.1\"\n",
    "HADOOP_EXAMPLES_JAR=\"${HADOOP_HOME}/share/hadoop/mapreduce/hadoop-mapreduce-examples-3.1.1.jar\"\n",
    "\n",
    "cd ./data\n",
    "\n",
    "# Split file\n",
    "split --additional-suffix=\".txt\" biblia.txt\n",
    "\n",
    "mkdir -p ./archivos_biblia\n",
    "mv xa*.txt ./archivos_biblia\n",
    "\n",
    "# Upload files\n",
    "$HADOOP_HOME/bin/hdfs dfs -put -f ./archivos_biblia/* input\n",
    "\n",
    "$HADOOP_HOME/bin/hdfs dfs -ls input\n",
    "\n",
    "# Execute wordcount\n",
    "$HADOOP_HOME/bin/hdfs dfs -rm -r output\n",
    "$HADOOP_HOME/bin/hadoop --loglevel WARN jar $HADOOP_EXAMPLES_JAR wordcount input output\n",
    "\n",
    "$HADOOP_HOME/bin/hdfs dfs -cat output/part-r-00000 | grep --contex=10 \"^él\""
   ]
  },
  {
   "cell_type": "markdown",
   "metadata": {},
   "source": [
    "## Otros ejercicios"
   ]
  },
  {
   "cell_type": "code",
   "execution_count": null,
   "metadata": {},
   "outputs": [],
   "source": []
  }
 ],
 "metadata": {
  "kernelspec": {
   "display_name": "Python 3",
   "language": "python",
   "name": "python3"
  },
  "language_info": {
   "codemirror_mode": {
    "name": "ipython",
    "version": 3
   },
   "file_extension": ".py",
   "mimetype": "text/x-python",
   "name": "python",
   "nbconvert_exporter": "python",
   "pygments_lexer": "ipython3",
   "version": "3.6.6"
  }
 },
 "nbformat": 4,
 "nbformat_minor": 2
}
