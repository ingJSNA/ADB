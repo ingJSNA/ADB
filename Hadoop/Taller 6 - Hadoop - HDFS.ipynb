{
 "cells": [
  {
   "cell_type": "markdown",
   "metadata": {},
   "source": [
    "# Taller 6 - Hadoop - HDFS\n",
    "\n",
    "Juan Navarro, <jsnavarroa@unal.edu.co>\n",
    "\n",
    "\n",
    "\n",
    "# Instalación\n",
    "\n",
    "* Install Hadoop\n",
    "\n",
    "```bash\n",
    "cd \"${HOME}/worskpace/BDA\"\n",
    "\n",
    "git clone https://github.com/jsnavarroa/docker-hadoop.git\n",
    "cd docker-hadoop\n",
    "\n",
    "# Install docker-compose\n",
    "conda create --name py3 python=3.6\n",
    "conda activate py3\n",
    "conda install -c conda-forge docker-compose\n",
    "\n",
    "# Run local\n",
    "docker-compose -f docker-compose-local.yml build\n",
    "docker-compose -f docker-compose-local.yml up -d\n",
    "```\n",
    "\n",
    "* Open the url http://localhost:58188/.\n",
    "  * NameNode http://localhost:8088/\n",
    "\n",
    "* Copy to container and Upload data to hdfs. The hdfs definition is in\n",
    "docker-hadoop/hadoop.env\n",
    "\n",
    "```bash\n",
    "cd \"${HOME}/worskpace/BDA/ADB/\"\n",
    "\n",
    "docker cp Hadoop/ namenode:/Example/\n",
    "\n",
    "# Upload to hdfs\n",
    "docker exec -it namenode bash\n",
    "cd /Example\n",
    "\n",
    "hadoop fs -mkdir hdfs://namenode:9000/bda\n",
    "hadoop fs -put ./data/purchases.txt hdfs://namenode:9000/bda\n",
    "hadoop fs -ls hdfs://namenode:9000/bda\n",
    "\n",
    "hadoop fs -tail hdfs://namenode:9000/bda/purchases.txt\n",
    "```\n",
    "\n",
    "* Run the mapper and reducer written in python. [Hadoop Streaming](https://hadoop.apache.org/docs/r2.7.1/hadoop-streaming/HadoopStreaming.html)\n",
    "\n",
    "```bash\n",
    "docker exec -it namenode bash\n",
    "cd /Example/src/store-totals\n",
    "\n",
    "# Run job\n",
    "pip3 install mrjob\n",
    "\n",
    "python store_totals.py -r hadoop hdfs://namenode:9000/bda/purchases.txt > /Example/data/mrjob_out.txt\n",
    "```\n"
   ]
  },
  {
   "cell_type": "code",
   "execution_count": null,
   "metadata": {},
   "outputs": [],
   "source": []
  }
 ],
 "metadata": {
  "kernelspec": {
   "display_name": "Python 3",
   "language": "python",
   "name": "python3"
  },
  "language_info": {
   "codemirror_mode": {
    "name": "ipython",
    "version": 3
   },
   "file_extension": ".py",
   "mimetype": "text/x-python",
   "name": "python",
   "nbconvert_exporter": "python",
   "pygments_lexer": "ipython3",
   "version": "3.6.6"
  }
 },
 "nbformat": 4,
 "nbformat_minor": 2
}
