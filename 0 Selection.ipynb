{
 "cells": [
  {
   "cell_type": "code",
   "execution_count": 1,
   "metadata": {},
   "outputs": [],
   "source": [
    "import pandas as pd\n",
    "import numpy as np\n",
    "from IPython.display import display"
   ]
  },
  {
   "cell_type": "code",
   "execution_count": null,
   "metadata": {},
   "outputs": [
    {
     "name": "stdout",
     "output_type": "stream",
     "text": [
      "./data/ICFES/Saber11/SB11_20171.zip ./data/ICFES/Saber11/SB11_20171\n",
      "FUND COL PAR SAN PEDRO CLAVER\n",
      "./data/ICFES/Saber11/SB11_20151.zip ./data/ICFES/Saber11/SB11_20151\n",
      "INS DE EDUCACION DE ADULTOS COVALSYSTEM\n",
      "./data/ICFES/Saber11/SB11_20172.zip ./data/ICFES/Saber11/SB11_20172\n",
      "COL  TOLIMENSE\n",
      "./data/ICFES/Saber11/SB11_20162.zip ./data/ICFES/Saber11/SB11_20162\n",
      "COL SUPERIOR AMERICANO\n",
      "./data/ICFES/Saber11/SB11_20161.zip ./data/ICFES/Saber11/SB11_20161\n",
      "COLEGIO LACORDAIRE\n",
      "./data/ICFES/Saber11/SB11_20152.zip ./data/ICFES/Saber11/SB11_20152\n"
     ]
    }
   ],
   "source": [
    "data_dir = \"./data/ICFES/Saber11/\"\n",
    "# Read and fix files\n",
    "\n",
    "import glob, os\n",
    "\n",
    "# Convert text files to csv\n",
    "for file in glob.glob(os.path.join(data_dir, \"*.zip\")):\n",
    "    file_name_no_extension = os.path.splitext(file)[0]\n",
    "    print(file, file_name_no_extension)\n",
    "    # Use utf-8-sig for the BOM\n",
    "    df = pd.read_table(file, sep='¬', engine=\"python\", encoding='utf-8-sig', dtype='object')\n",
    "    \n",
    "    # Replace quoting characters in string values\n",
    "    df.replace(to_replace=('\\\"', '`', '\\''), value=('', ' ', ' '), regex=True, inplace=True)\n",
    "\n",
    "    print(df.iloc[161]['cole_nombre_sede'])\n",
    "    \n",
    "    df.to_csv(file_name_no_extension+\".csv\", index=False, encoding=\"utf-8\")"
   ]
  },
  {
   "cell_type": "code",
   "execution_count": null,
   "metadata": {},
   "outputs": [],
   "source": []
  }
 ],
 "metadata": {
  "kernelspec": {
   "display_name": "Python 3",
   "language": "python",
   "name": "python3"
  },
  "language_info": {
   "codemirror_mode": {
    "name": "ipython",
    "version": 3
   },
   "file_extension": ".py",
   "mimetype": "text/x-python",
   "name": "python",
   "nbconvert_exporter": "python",
   "pygments_lexer": "ipython3",
   "version": "3.6.6"
  }
 },
 "nbformat": 4,
 "nbformat_minor": 2
}
